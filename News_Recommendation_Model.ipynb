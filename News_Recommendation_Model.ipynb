{
 "cells": [
  {
   "cell_type": "code",
   "execution_count": 55,
   "metadata": {},
   "outputs": [],
   "source": [
    "import pandas as pd\n",
    "df = pd.read_csv('recommendation.csv')"
   ]
  },
  {
   "cell_type": "code",
   "execution_count": 56,
   "metadata": {},
   "outputs": [
    {
     "name": "stdout",
     "output_type": "stream",
     "text": [
      "Unnamed: 0.1     0\n",
      "Unnamed: 0       0\n",
      "link             0\n",
      "text             0\n",
      "title            0\n",
      "date             0\n",
      "keywords         0\n",
      "summary          0\n",
      "title_summary    0\n",
      "dtype: int64\n"
     ]
    }
   ],
   "source": [
    "df.dropna(subset = ['title_summary','date'], inplace = True)\n",
    "print(df.isna().sum())"
   ]
  },
  {
   "cell_type": "code",
   "execution_count": 57,
   "metadata": {},
   "outputs": [],
   "source": [
    "df['tags'] = df['text'] + df['title'] + df['keywords'] + df['summary']"
   ]
  },
  {
   "cell_type": "code",
   "execution_count": 68,
   "metadata": {},
   "outputs": [],
   "source": [
    "import spacy\n",
    "nlp=spacy.load('en_core_web_sm')"
   ]
  },
  {
   "cell_type": "code",
   "execution_count": 69,
   "metadata": {},
   "outputs": [],
   "source": [
    "def lemmatiz(text):\n",
    "    l=[]\n",
    "    doc=nlp(text)\n",
    "    for i in doc:\n",
    "        l.append(i.lemma_)\n",
    "\n",
    "    return \" \".join(l)"
   ]
  },
  {
   "cell_type": "code",
   "execution_count": 70,
   "metadata": {},
   "outputs": [],
   "source": [
    "df['tags']=df['tags'].apply(lemmatiz)"
   ]
  },
  {
   "cell_type": "code",
   "execution_count": 80,
   "metadata": {},
   "outputs": [
    {
     "data": {
      "text/plain": [
       "'update : the oracle -tiktok tie - up be confirm as a concept . oracle put out a release early today say that be party to an agreement in which it would partner with tiktok , and that the proposal have be submit to the us government . here ’ oracle ’s statement in full : \\n\\n oracle confirm secretary mnuchin ’s statement that it be part of the proposal submit by bytedance to the treasury department over the weekend in which oracle will serve as the trust technology provider . oracle have a 40 - year track record provide secure , highly performant technology solution . \\n\\n original article : enterprise provider oracle be say to have win the bidding war for the u.s . operation of tiktok , a chase in which microsoft be boot from early today . \\n\\n a tiktok spokesperson say the company \" [ do not ] comment on rumor or speculation . \" oracle do not immediately respond to techcrunch for comment . \\n\\n the wall street journal write that oracle , a rare ally of the trump administration in silicon valley , will be announce as tiktok ’s \" trust tech partner \" in the united states . additionally , the journal cite that a person familiar with the matter say the deal be \" likely not to be structure as an outright sale . \" \\n\\n oracle ’s allege purchase of tiktok ’s u.s . operation would put an end to the unclear fate of the app within the country . the app ’s report buy come day before september 20 , the day that the trump administration set for a ban on tiktok ’s operation if the company do not reach an agreement with a buyer . but there ’ much confusion about which deadline tiktok will adhere to as trump say last week \" there will be no extension \" of the september 15 deadline . \\n\\n on sunday , microsoft say its bid for the u.s . operation of tiktok have be reject by the app ’s parent company , bytedance . \\n\\n \" we be confident our proposal would have be good for tiktok ’s user , while protect national security interest , \" the statement read , state that microsoft would make \" significant change \" around security , privacy , online safety , and disinformation . \\n\\n \" we look forward to see how the service evolve in these important area , \" the statement add . \\n\\n issue and fear around tiktok ’s security have be a flagship issue for the app . tiktok be ban in india , along with 58 other app , due to \" national security and defence \" issue . india be tiktok ’s big overseas market . in addition to microsoft , a number of prominent tech company have rumor to be in the market for tiktok ’s u.s . operation such as twitter , google , and walmart . but , as our ron miller point out , there ’ some reason toward why a company like oracle would crave an app like tiktok : marketshare . \\n\\n oracle have grow out of its database root and make its way into marketing automation and cloud infrastructure . the company be not just a database maker and provider . it ’ a massive operation , that monetize off of datum . early in this pandemic , the enterprise datum provider team up with zoom . if oracle be to bring the same kind of partnership to fruition with tiktok , it would have land a huge client . \\n\\n holger mueller , an analyst at constellation research , tell techcrunch oracle ’s scoop of tiktok \" will add plenty of load to their infrastructure service . \" \\n\\n \" that ’ what matter to they with viral load prefer . if microsoft get tiktok it could boost their usage by between 2 % and 5 % , while for oracle it could be as much 10 % , \" he say . \\n\\n oracle ’s report buy , thus , could be a boost that actually make sense . but a dramatic one , nonetheless . \\n\\n it ’ uncertain how an oracle deal will carry out or win approval from beijing , which be clearly not happy with a force sale . two week ago , the chinese government update a set of trade rule that could block the export of artificial intelligence technology such as those use to personalize tiktok ’s user feed . the revision be widely view as beijing ’s move to complicate tiktok ’s sale and bytedance say at the time it will \" strictly abide by \" the law . \\n\\n over the weekend , reuter report that beijing would rather see tiktok close down in the u.s . rather than follow washington ’s order to sell , which would \" make both bytedance and china appear weak in the face of pressure from washington . \" \\n\\n some form of transaction may still happen , but it might leave out tiktok ’s proprietary algorithm develop by bytedance ’s beijing office , a source tell the south china morning post . that mean tiktok ’s u.s . operation or future owner would have to rewrite the very code that have propel the app to global domination . \\n\\n after all , oracle might end up as a minority stakeholder rather than an owner of tiktok , accord to cnbc . an investment tie might just be strong enough to bind oracle ’s cloud service to tiktok , which have over 100 million user in the u.s . market alone . \\n\\n whether a sale happen or not , getting catch in geopolitical tension be probably the last thing that zhang yiming , the ambitious chinese founder of bytedance , would want for his brainchild.oracle boot out microsoft and win bid for tiktok , report say – techcrunch[\\'statement \\' , \\' say \\' , \\' provider \\' , \\' techcrunch \\' , \\' tiktok \\' , \\' bytedance \\' , \\' security \\' , \\' win \\' , \\' boot \\' , \\' report \\' , \\' microsoft \\' , \\' tiktok \\' , \\' company \\' , \\' bid \\' , \\' oracle \\' , \\' operations\\']update : the oracle -tiktok tie - up be confirm as a concept . \\n original article : enterprise provider oracle be say to have win the bidding war for the u.s . operation of tiktok , a chase in which microsoft be boot from early today . \\n a tiktok spokesperson say the company \" [ do not ] comment on rumor or speculation . \" oracle do not immediately respond to techcrunch for comment . \\n on sunday , microsoft say its bid for the u.s . operation of tiktok have be reject by the app ’s parent company , bytedance . \\n issue and fear around tiktok ’s security have be a flagship issue for the app .'"
      ]
     },
     "execution_count": 80,
     "metadata": {},
     "output_type": "execute_result"
    }
   ],
   "source": [
    "df['tags']=df['tags'].apply(lambda x:x.lower())\n",
    "df.head(1)\n",
    "df['tags'][10]"
   ]
  },
  {
   "cell_type": "code",
   "execution_count": 81,
   "metadata": {},
   "outputs": [],
   "source": [
    "from sklearn.feature_extraction.text import TfidfVectorizer\n",
    "from sklearn.metrics.pairwise import cosine_similarity\n",
    "\n",
    "# TF-IDF vectorization for content-based recommendations\n",
    "tfidf_vectorizer = TfidfVectorizer(max_features=6000, stop_words='english')\n",
    "tfidf_matrix = tfidf_vectorizer.fit_transform(df['tags'])\n",
    "cosine_sim = cosine_similarity(tfidf_matrix, tfidf_matrix)\n",
    "\n"
   ]
  },
  {
   "cell_type": "code",
   "execution_count": 82,
   "metadata": {},
   "outputs": [
    {
     "data": {
      "text/plain": [
       "array([0.        , 0.01281591, 0.        , ..., 0.        , 0.        ,\n",
       "       0.        ])"
      ]
     },
     "execution_count": 82,
     "metadata": {},
     "output_type": "execute_result"
    }
   ],
   "source": [
    "tfidf_matrix.toarray()[0]"
   ]
  },
  {
   "cell_type": "code",
   "execution_count": 83,
   "metadata": {},
   "outputs": [
    {
     "data": {
      "text/plain": [
       "(1689, 1689)"
      ]
     },
     "execution_count": 83,
     "metadata": {},
     "output_type": "execute_result"
    }
   ],
   "source": [
    "cosine_sim.shape"
   ]
  },
  {
   "cell_type": "code",
   "execution_count": 84,
   "metadata": {},
   "outputs": [
    {
     "data": {
      "text/plain": [
       "array(['cancel', 'cancellation', 'cancer', 'candidate', 'canoo', 'cap',\n",
       "       'capability', 'capable', 'capacity', 'capital', 'capitalist',\n",
       "       'capitalization', 'capitalize', 'capri', 'captain'], dtype=object)"
      ]
     },
     "execution_count": 84,
     "metadata": {},
     "output_type": "execute_result"
    }
   ],
   "source": [
    "tfidf_vectorizer.get_feature_names_out()[1000:1015]"
   ]
  },
  {
   "cell_type": "code",
   "execution_count": 85,
   "metadata": {},
   "outputs": [],
   "source": [
    "def recommend_articles(user_activity, num_recommendations=10):\n",
    "    # Calculate user's profile based on their activity (e.g., articles read)\n",
    "    user_profile = tfidf_vectorizer.transform([user_activity]).toarray()\n",
    "\n",
    "    # Calculate similarity between user profile and all articles\n",
    "    cosine_scores = cosine_similarity(user_profile, tfidf_matrix)\n",
    "\n",
    "    # Get indices of articles sorted by similarity score\n",
    "    article_indices = cosine_scores.argsort()[0][::-1]\n",
    "\n",
    "    # Recommend top num_recommendations articles\n",
    "    recommended_articles = df.iloc[article_indices[:num_recommendations]]\n",
    "\n",
    "    # Create a DataFrame with titles and links\n",
    "    recommended_df = recommended_articles[['title', 'link']]\n",
    "    \n",
    "    return recommended_df\n"
   ]
  },
  {
   "cell_type": "code",
   "execution_count": 86,
   "metadata": {},
   "outputs": [
    {
     "name": "stdout",
     "output_type": "stream",
     "text": [
      "1113. Title: Elon Musk is now richer than Mark Zuckerberg\n",
      "   Link: https://mashable.com/article/elon-musk-third-richest-person/\n",
      "\n",
      "1840. Title: Tesla shares rebound from steep rout\n",
      "   Link: https://www.reuters.com/article/us-tesla-stocks-idUSKBN261334\n",
      "\n",
      "1839. Title: Tesla shares rebound from steep rout\n",
      "   Link: https://ca.reuters.com/article/us-tesla-stocks-idCAKBN261334\n",
      "\n",
      "1979. Title: Tesla's Musk discusses vaccine project, car plant with German politicians\n",
      "   Link: https://www.reuters.com/article/us-tesla-musk-germany-idUSKBN25T12I\n",
      "\n",
      "1506. Title: Elon Musk demonstrates Neuralink’s tech live using pigs with surgically implanted brain-monitoring devices – TechCrunch\n",
      "   Link: http://techcrunch.com/2020/08/28/elon-musk-demonstrates-neuralinks-tech-live-using-pigs-with-surgically-implanted-brain-monitoring-devices/\n",
      "\n"
     ]
    }
   ],
   "source": [
    "# Example usage to recommend 5 articles\n",
    "recommended_df = recommend_articles('Musk is the CEO and founder of Tesla, SpaceX, Boring Co., and X.AI, among other ventures. In 2022, he purchased Twitter for $44 billion. In an exclusive excerpt from his new biography', num_recommendations=5)\n",
    "\n",
    "# Display the recommended articles with titles and links\n",
    "for i, row in recommended_df.iterrows():\n",
    "    print(f\"{i + 1}. Title: {row['title']}\")\n",
    "    print(f\"   Link: {row['link']}\\n\")\n"
   ]
  }
 ],
 "metadata": {
  "kernelspec": {
   "display_name": "Python 3",
   "language": "python",
   "name": "python3"
  },
  "language_info": {
   "codemirror_mode": {
    "name": "ipython",
    "version": 3
   },
   "file_extension": ".py",
   "mimetype": "text/x-python",
   "name": "python",
   "nbconvert_exporter": "python",
   "pygments_lexer": "ipython3",
   "version": "3.10.2"
  },
  "orig_nbformat": 4
 },
 "nbformat": 4,
 "nbformat_minor": 2
}
